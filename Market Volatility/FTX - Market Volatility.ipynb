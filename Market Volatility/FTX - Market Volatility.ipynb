{
 "cells": [
  {
   "cell_type": "markdown",
   "metadata": {},
   "source": [
    "# Import Libraries"
   ]
  },
  {
   "cell_type": "code",
   "execution_count": 1,
   "metadata": {},
   "outputs": [],
   "source": [
    "import ccxt\n",
    "import pandas as pd\n",
    "import time\n",
    "# from songline import Sendline as sl\n",
    "import matplotlib.pyplot as plt\n",
    "%matplotlib inline"
   ]
  },
  {
   "cell_type": "markdown",
   "metadata": {},
   "source": [
    "# Configuration"
   ]
  },
  {
   "cell_type": "code",
   "execution_count": 2,
   "metadata": {},
   "outputs": [],
   "source": [
    "#API\n",
    "APIKey = ''\n",
    "Secret = ''\n",
    "\n",
    "\n",
    "#Products\n",
    "Pair = 'XRPBULL/USD'\n",
    "TF = '1h'\n",
    "MAPeriod = 24 * 7 "
   ]
  },
  {
   "cell_type": "markdown",
   "metadata": {},
   "source": [
    "# Connection"
   ]
  },
  {
   "cell_type": "code",
   "execution_count": 3,
   "metadata": {},
   "outputs": [],
   "source": [
    "FTX = ccxt.ftx({\n",
    "    'apiKey': APIKey,\n",
    "    'secret': Secret,\n",
    "    'enableRateLimit' : True\n",
    "})"
   ]
  },
  {
   "cell_type": "markdown",
   "metadata": {},
   "source": [
    "# Define Function"
   ]
  },
  {
   "cell_type": "code",
   "execution_count": 4,
   "metadata": {},
   "outputs": [],
   "source": [
    "# FTX.fetch_ohlcv(symbol = Pair, timeframe = TF)"
   ]
  },
  {
   "cell_type": "code",
   "execution_count": 5,
   "metadata": {},
   "outputs": [],
   "source": [
    "def GetHistPrice():\n",
    "    Data = FTX.fetch_ohlcv(symbol = Pair, timeframe = TF)\n",
    "    Columns = ['ID', 'Open', 'High', 'Low', 'Close', 'Volume']\n",
    "    try:\n",
    "        price = pd.DataFrame(Data,\n",
    "                            columns = Columns)\n",
    "        price['Range'] = price['High'] - price['Low']\n",
    "        price['PercentRange'] = (price['Range'] / price['Close']) * 100\n",
    "        price['MeanRange'] = price['PercentRange'].rolling(window=MAPeriod).mean()\n",
    "    except ccxt.NetworkError as e:\n",
    "        print(FTX.id, 'fetch_ohlcv failed due to a network error:', str(e))\n",
    "        time.sleep(15)\n",
    "        price = pd.DataFrame(Data,\n",
    "                            columns = Columns)\n",
    "        price['Range'] = price['High'] - price['Low']\n",
    "        price['PercentRange'] = (price['Range'] / price['Close']) * 100\n",
    "        price['MeanRange'] = price['PercentRange'].rolling(window=MAPeriod).mean()\n",
    "    except ccxt.ExchangeError as e:\n",
    "        print(FTX.id, 'fetch_ohlcv failed due to exchange error:', str(e))\n",
    "        time.sleep(15)\n",
    "        price = pd.DataFrame(Data,\n",
    "                            columns = Columns)\n",
    "        price['Range'] = price['High'] - price['Low']\n",
    "        price['PercentRange'] = (price['Range'] / price['Close']) * 100\n",
    "        price['MeanRange'] = price['PercentRange'].rolling(window=MAPeriod).mean()\n",
    "    except Exception as e:\n",
    "        print(FTX.id, 'fetch_ohlcv failed with:', str(e))\n",
    "        time.sleep(15)\n",
    "        price = pd.DataFrame(Data,\n",
    "                            columns = Columns)\n",
    "        price['Range'] = price['High'] - price['Low']\n",
    "        price['PercentRange'] = (price['Range'] / price['Close']) * 100\n",
    "        price['MeanRange'] = price['PercentRange'].rolling(window=MAPeriod).mean()\n",
    "        \n",
    "    \n",
    "    return price"
   ]
  },
  {
   "cell_type": "markdown",
   "metadata": {},
   "source": [
    "# Data Pulling"
   ]
  },
  {
   "cell_type": "code",
   "execution_count": 6,
   "metadata": {},
   "outputs": [
    {
     "data": {
      "text/html": [
       "<div>\n",
       "<style scoped>\n",
       "    .dataframe tbody tr th:only-of-type {\n",
       "        vertical-align: middle;\n",
       "    }\n",
       "\n",
       "    .dataframe tbody tr th {\n",
       "        vertical-align: top;\n",
       "    }\n",
       "\n",
       "    .dataframe thead th {\n",
       "        text-align: right;\n",
       "    }\n",
       "</style>\n",
       "<table border=\"1\" class=\"dataframe\">\n",
       "  <thead>\n",
       "    <tr style=\"text-align: right;\">\n",
       "      <th></th>\n",
       "      <th>ID</th>\n",
       "      <th>Open</th>\n",
       "      <th>High</th>\n",
       "      <th>Low</th>\n",
       "      <th>Close</th>\n",
       "      <th>Volume</th>\n",
       "      <th>Range</th>\n",
       "      <th>PercentRange</th>\n",
       "      <th>MeanRange</th>\n",
       "    </tr>\n",
       "  </thead>\n",
       "  <tbody>\n",
       "    <tr>\n",
       "      <th>0</th>\n",
       "      <td>1608670800000</td>\n",
       "      <td>17.4400</td>\n",
       "      <td>17.9400</td>\n",
       "      <td>11.2500</td>\n",
       "      <td>13.1350</td>\n",
       "      <td>280991.517645</td>\n",
       "      <td>6.6900</td>\n",
       "      <td>50.932623</td>\n",
       "      <td>NaN</td>\n",
       "    </tr>\n",
       "    <tr>\n",
       "      <th>1</th>\n",
       "      <td>1608674400000</td>\n",
       "      <td>13.1350</td>\n",
       "      <td>14.6700</td>\n",
       "      <td>12.4550</td>\n",
       "      <td>14.1000</td>\n",
       "      <td>182366.262550</td>\n",
       "      <td>2.2150</td>\n",
       "      <td>15.709220</td>\n",
       "      <td>NaN</td>\n",
       "    </tr>\n",
       "    <tr>\n",
       "      <th>2</th>\n",
       "      <td>1608678000000</td>\n",
       "      <td>14.1000</td>\n",
       "      <td>15.4300</td>\n",
       "      <td>13.5350</td>\n",
       "      <td>14.7800</td>\n",
       "      <td>223659.036900</td>\n",
       "      <td>1.8950</td>\n",
       "      <td>12.821380</td>\n",
       "      <td>NaN</td>\n",
       "    </tr>\n",
       "    <tr>\n",
       "      <th>3</th>\n",
       "      <td>1608681600000</td>\n",
       "      <td>14.7800</td>\n",
       "      <td>15.0000</td>\n",
       "      <td>12.4200</td>\n",
       "      <td>13.3250</td>\n",
       "      <td>204140.024050</td>\n",
       "      <td>2.5800</td>\n",
       "      <td>19.362101</td>\n",
       "      <td>NaN</td>\n",
       "    </tr>\n",
       "    <tr>\n",
       "      <th>4</th>\n",
       "      <td>1608685200000</td>\n",
       "      <td>13.3250</td>\n",
       "      <td>13.4500</td>\n",
       "      <td>10.4300</td>\n",
       "      <td>11.4800</td>\n",
       "      <td>169774.075300</td>\n",
       "      <td>3.0200</td>\n",
       "      <td>26.306620</td>\n",
       "      <td>NaN</td>\n",
       "    </tr>\n",
       "    <tr>\n",
       "      <th>...</th>\n",
       "      <td>...</td>\n",
       "      <td>...</td>\n",
       "      <td>...</td>\n",
       "      <td>...</td>\n",
       "      <td>...</td>\n",
       "      <td>...</td>\n",
       "      <td>...</td>\n",
       "      <td>...</td>\n",
       "      <td>...</td>\n",
       "    </tr>\n",
       "    <tr>\n",
       "      <th>1496</th>\n",
       "      <td>1614056400000</td>\n",
       "      <td>1.1255</td>\n",
       "      <td>1.1255</td>\n",
       "      <td>0.8880</td>\n",
       "      <td>1.0120</td>\n",
       "      <td>233408.682100</td>\n",
       "      <td>0.2375</td>\n",
       "      <td>23.468379</td>\n",
       "      <td>8.927600</td>\n",
       "    </tr>\n",
       "    <tr>\n",
       "      <th>1497</th>\n",
       "      <td>1614060000000</td>\n",
       "      <td>1.0120</td>\n",
       "      <td>1.0885</td>\n",
       "      <td>0.9800</td>\n",
       "      <td>0.9930</td>\n",
       "      <td>151235.093150</td>\n",
       "      <td>0.1085</td>\n",
       "      <td>10.926485</td>\n",
       "      <td>8.930151</td>\n",
       "    </tr>\n",
       "    <tr>\n",
       "      <th>1498</th>\n",
       "      <td>1614063600000</td>\n",
       "      <td>0.9930</td>\n",
       "      <td>1.0500</td>\n",
       "      <td>0.9570</td>\n",
       "      <td>0.9730</td>\n",
       "      <td>100416.339050</td>\n",
       "      <td>0.0930</td>\n",
       "      <td>9.558068</td>\n",
       "      <td>8.952285</td>\n",
       "    </tr>\n",
       "    <tr>\n",
       "      <th>1499</th>\n",
       "      <td>1614067200000</td>\n",
       "      <td>0.9730</td>\n",
       "      <td>0.9920</td>\n",
       "      <td>0.4385</td>\n",
       "      <td>0.4385</td>\n",
       "      <td>221205.039900</td>\n",
       "      <td>0.5535</td>\n",
       "      <td>126.225770</td>\n",
       "      <td>9.676248</td>\n",
       "    </tr>\n",
       "    <tr>\n",
       "      <th>1500</th>\n",
       "      <td>1614070800000</td>\n",
       "      <td>0.4380</td>\n",
       "      <td>0.5155</td>\n",
       "      <td>0.2730</td>\n",
       "      <td>0.4700</td>\n",
       "      <td>217340.611725</td>\n",
       "      <td>0.2425</td>\n",
       "      <td>51.595745</td>\n",
       "      <td>9.961733</td>\n",
       "    </tr>\n",
       "  </tbody>\n",
       "</table>\n",
       "<p>1501 rows × 9 columns</p>\n",
       "</div>"
      ],
      "text/plain": [
       "                 ID     Open     High      Low    Close         Volume  \\\n",
       "0     1608670800000  17.4400  17.9400  11.2500  13.1350  280991.517645   \n",
       "1     1608674400000  13.1350  14.6700  12.4550  14.1000  182366.262550   \n",
       "2     1608678000000  14.1000  15.4300  13.5350  14.7800  223659.036900   \n",
       "3     1608681600000  14.7800  15.0000  12.4200  13.3250  204140.024050   \n",
       "4     1608685200000  13.3250  13.4500  10.4300  11.4800  169774.075300   \n",
       "...             ...      ...      ...      ...      ...            ...   \n",
       "1496  1614056400000   1.1255   1.1255   0.8880   1.0120  233408.682100   \n",
       "1497  1614060000000   1.0120   1.0885   0.9800   0.9930  151235.093150   \n",
       "1498  1614063600000   0.9930   1.0500   0.9570   0.9730  100416.339050   \n",
       "1499  1614067200000   0.9730   0.9920   0.4385   0.4385  221205.039900   \n",
       "1500  1614070800000   0.4380   0.5155   0.2730   0.4700  217340.611725   \n",
       "\n",
       "       Range  PercentRange  MeanRange  \n",
       "0     6.6900     50.932623        NaN  \n",
       "1     2.2150     15.709220        NaN  \n",
       "2     1.8950     12.821380        NaN  \n",
       "3     2.5800     19.362101        NaN  \n",
       "4     3.0200     26.306620        NaN  \n",
       "...      ...           ...        ...  \n",
       "1496  0.2375     23.468379   8.927600  \n",
       "1497  0.1085     10.926485   8.930151  \n",
       "1498  0.0930      9.558068   8.952285  \n",
       "1499  0.5535    126.225770   9.676248  \n",
       "1500  0.2425     51.595745   9.961733  \n",
       "\n",
       "[1501 rows x 9 columns]"
      ]
     },
     "execution_count": 6,
     "metadata": {},
     "output_type": "execute_result"
    }
   ],
   "source": [
    "GetHistPrice()"
   ]
  },
  {
   "cell_type": "code",
   "execution_count": 7,
   "metadata": {},
   "outputs": [],
   "source": [
    "# len(GetHistPrice())"
   ]
  },
  {
   "cell_type": "markdown",
   "metadata": {},
   "source": [
    "# Visualization"
   ]
  },
  {
   "cell_type": "code",
   "execution_count": 8,
   "metadata": {
    "scrolled": true
   },
   "outputs": [
    {
     "data": {
      "image/png": "[encoded data removed]",
      "text/plain": [
       "<Figure size 720x420 with 1 Axes>"
      ]
     },
     "metadata": {},
     "output_type": "display_data"
    }
   ],
   "source": [
    "plt.figure(figsize=(12,7),\n",
    "           dpi = 60,\n",
    "           edgecolor = '#000000',\n",
    "           linewidth = 5,\n",
    "           facecolor = '#CCFFCC')\n",
    "\n",
    "plt.plot(GetHistPrice()['PercentRange'][-MAPeriod:-1],\n",
    "        label = '% Range')\n",
    "plt.plot(GetHistPrice()['MeanRange'][-MAPeriod:-1],\n",
    "        label = 'Average Range')\n",
    "\n",
    "plt.xlabel('Period')\n",
    "plt.ylabel('Percent Range')\n",
    "plt.title(f'Last 7 Trading Days {Pair} Trading Range (FTX), TF: 1h\\nUpdated: {time.ctime()}')\n",
    "\n",
    "plt.grid()\n",
    "plt.legend()\n",
    "plt.show()"
   ]
  },
  {
   "cell_type": "code",
   "execution_count": null,
   "metadata": {},
   "outputs": [],
   "source": []
  }
 ],
 "metadata": {
  "kernelspec": {
   "display_name": "Python 3",
   "language": "python",
   "name": "python3"
  },
  "language_info": {
   "codemirror_mode": {
    "name": "ipython",
    "version": 3
   },
   "file_extension": ".py",
   "mimetype": "text/x-python",
   "name": "python",
   "nbconvert_exporter": "python",
   "pygments_lexer": "ipython3",
   "version": "3.8.5"
  }
 },
 "nbformat": 4,
 "nbformat_minor": 4
}

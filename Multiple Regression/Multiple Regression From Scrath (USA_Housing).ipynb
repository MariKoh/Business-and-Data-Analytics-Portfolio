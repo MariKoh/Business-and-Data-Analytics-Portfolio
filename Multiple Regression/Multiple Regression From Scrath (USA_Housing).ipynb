{
 "cells": [
  {
   "cell_type": "markdown",
   "metadata": {},
   "source": [
    "# 1. Import Library"
   ]
  },
  {
   "cell_type": "code",
   "execution_count": 1,
   "metadata": {},
   "outputs": [],
   "source": [
    "# !python -m pip install --upgrade pip\n",
    "# !pip install nbimporter\n",
    "# !python --version"
   ]
  },
  {
   "cell_type": "code",
   "execution_count": 2,
   "metadata": {},
   "outputs": [
    {
     "name": "stdout",
     "output_type": "stream",
     "text": [
      "Importing Jupyter notebook from SuperMariKoh.ipynb\n"
     ]
    }
   ],
   "source": [
    "import numpy as np\n",
    "from numpy.linalg import inv\n",
    "import pandas as pd\n",
    "import matplotlib.pyplot as plt\n",
    "%matplotlib inline\n",
    "import nbimporter\n",
    "import SuperMariKoh as SMK"
   ]
  },
  {
   "cell_type": "markdown",
   "metadata": {},
   "source": [
    "# 2. Read Data & Prepare Data"
   ]
  },
  {
   "cell_type": "code",
   "execution_count": 3,
   "metadata": {},
   "outputs": [],
   "source": [
    "Data = pd.read_csv('USA_Housing.csv', usecols = [1, 2, 3, 4, 5])"
   ]
  },
  {
   "cell_type": "code",
   "execution_count": 4,
   "metadata": {
    "scrolled": true
   },
   "outputs": [
    {
     "data": {
      "text/html": [
       "<div>\n",
       "<style scoped>\n",
       "    .dataframe tbody tr th:only-of-type {\n",
       "        vertical-align: middle;\n",
       "    }\n",
       "\n",
       "    .dataframe tbody tr th {\n",
       "        vertical-align: top;\n",
       "    }\n",
       "\n",
       "    .dataframe thead th {\n",
       "        text-align: right;\n",
       "    }\n",
       "</style>\n",
       "<table border=\"1\" class=\"dataframe\">\n",
       "  <thead>\n",
       "    <tr style=\"text-align: right;\">\n",
       "      <th></th>\n",
       "      <th>Avg. Area House Age</th>\n",
       "      <th>Avg. Area Number of Rooms</th>\n",
       "      <th>Avg. Area Number of Bedrooms</th>\n",
       "      <th>Area Population</th>\n",
       "      <th>Price</th>\n",
       "    </tr>\n",
       "  </thead>\n",
       "  <tbody>\n",
       "    <tr>\n",
       "      <th>0</th>\n",
       "      <td>5.682861</td>\n",
       "      <td>7.009188</td>\n",
       "      <td>4.09</td>\n",
       "      <td>23086.800503</td>\n",
       "      <td>1.059034e+06</td>\n",
       "    </tr>\n",
       "    <tr>\n",
       "      <th>1</th>\n",
       "      <td>6.002900</td>\n",
       "      <td>6.730821</td>\n",
       "      <td>3.09</td>\n",
       "      <td>40173.072174</td>\n",
       "      <td>1.505891e+06</td>\n",
       "    </tr>\n",
       "    <tr>\n",
       "      <th>2</th>\n",
       "      <td>5.865890</td>\n",
       "      <td>8.512727</td>\n",
       "      <td>5.13</td>\n",
       "      <td>36882.159400</td>\n",
       "      <td>1.058988e+06</td>\n",
       "    </tr>\n",
       "    <tr>\n",
       "      <th>3</th>\n",
       "      <td>7.188236</td>\n",
       "      <td>5.586729</td>\n",
       "      <td>3.26</td>\n",
       "      <td>34310.242831</td>\n",
       "      <td>1.260617e+06</td>\n",
       "    </tr>\n",
       "    <tr>\n",
       "      <th>4</th>\n",
       "      <td>5.040555</td>\n",
       "      <td>7.839388</td>\n",
       "      <td>4.23</td>\n",
       "      <td>26354.109472</td>\n",
       "      <td>6.309435e+05</td>\n",
       "    </tr>\n",
       "    <tr>\n",
       "      <th>5</th>\n",
       "      <td>4.988408</td>\n",
       "      <td>6.104512</td>\n",
       "      <td>4.04</td>\n",
       "      <td>26748.428425</td>\n",
       "      <td>1.068138e+06</td>\n",
       "    </tr>\n",
       "    <tr>\n",
       "      <th>6</th>\n",
       "      <td>6.025336</td>\n",
       "      <td>8.147760</td>\n",
       "      <td>3.41</td>\n",
       "      <td>60828.249085</td>\n",
       "      <td>1.502056e+06</td>\n",
       "    </tr>\n",
       "    <tr>\n",
       "      <th>7</th>\n",
       "      <td>6.989780</td>\n",
       "      <td>6.620478</td>\n",
       "      <td>2.42</td>\n",
       "      <td>36516.358972</td>\n",
       "      <td>1.573937e+06</td>\n",
       "    </tr>\n",
       "    <tr>\n",
       "      <th>8</th>\n",
       "      <td>5.362126</td>\n",
       "      <td>6.393121</td>\n",
       "      <td>2.30</td>\n",
       "      <td>29387.396003</td>\n",
       "      <td>7.988695e+05</td>\n",
       "    </tr>\n",
       "    <tr>\n",
       "      <th>9</th>\n",
       "      <td>4.423672</td>\n",
       "      <td>8.167688</td>\n",
       "      <td>6.10</td>\n",
       "      <td>40149.965749</td>\n",
       "      <td>1.545155e+06</td>\n",
       "    </tr>\n",
       "    <tr>\n",
       "      <th>10</th>\n",
       "      <td>8.093513</td>\n",
       "      <td>5.042747</td>\n",
       "      <td>4.10</td>\n",
       "      <td>47224.359840</td>\n",
       "      <td>1.707046e+06</td>\n",
       "    </tr>\n",
       "    <tr>\n",
       "      <th>11</th>\n",
       "      <td>4.496513</td>\n",
       "      <td>7.467627</td>\n",
       "      <td>4.49</td>\n",
       "      <td>34343.991886</td>\n",
       "      <td>6.637324e+05</td>\n",
       "    </tr>\n",
       "    <tr>\n",
       "      <th>12</th>\n",
       "      <td>7.671755</td>\n",
       "      <td>7.250029</td>\n",
       "      <td>3.10</td>\n",
       "      <td>39220.361467</td>\n",
       "      <td>1.042814e+06</td>\n",
       "    </tr>\n",
       "    <tr>\n",
       "      <th>13</th>\n",
       "      <td>6.919535</td>\n",
       "      <td>5.993188</td>\n",
       "      <td>2.27</td>\n",
       "      <td>32326.123139</td>\n",
       "      <td>1.291332e+06</td>\n",
       "    </tr>\n",
       "    <tr>\n",
       "      <th>14</th>\n",
       "      <td>5.344776</td>\n",
       "      <td>8.406418</td>\n",
       "      <td>4.37</td>\n",
       "      <td>35521.294033</td>\n",
       "      <td>1.402818e+06</td>\n",
       "    </tr>\n",
       "    <tr>\n",
       "      <th>15</th>\n",
       "      <td>5.443156</td>\n",
       "      <td>8.517513</td>\n",
       "      <td>4.01</td>\n",
       "      <td>23929.524053</td>\n",
       "      <td>1.306675e+06</td>\n",
       "    </tr>\n",
       "    <tr>\n",
       "      <th>16</th>\n",
       "      <td>5.067890</td>\n",
       "      <td>8.219771</td>\n",
       "      <td>3.12</td>\n",
       "      <td>39717.813576</td>\n",
       "      <td>1.556787e+06</td>\n",
       "    </tr>\n",
       "    <tr>\n",
       "      <th>17</th>\n",
       "      <td>4.788550</td>\n",
       "      <td>5.097010</td>\n",
       "      <td>4.30</td>\n",
       "      <td>24595.901498</td>\n",
       "      <td>5.284852e+05</td>\n",
       "    </tr>\n",
       "    <tr>\n",
       "      <th>18</th>\n",
       "      <td>5.947165</td>\n",
       "      <td>7.187774</td>\n",
       "      <td>5.12</td>\n",
       "      <td>35719.653052</td>\n",
       "      <td>1.019426e+06</td>\n",
       "    </tr>\n",
       "    <tr>\n",
       "      <th>19</th>\n",
       "      <td>5.739411</td>\n",
       "      <td>7.091808</td>\n",
       "      <td>5.49</td>\n",
       "      <td>44922.106702</td>\n",
       "      <td>1.030591e+06</td>\n",
       "    </tr>\n",
       "    <tr>\n",
       "      <th>20</th>\n",
       "      <td>6.627457</td>\n",
       "      <td>8.011898</td>\n",
       "      <td>4.07</td>\n",
       "      <td>47560.775336</td>\n",
       "      <td>2.146925e+06</td>\n",
       "    </tr>\n",
       "    <tr>\n",
       "      <th>21</th>\n",
       "      <td>5.551222</td>\n",
       "      <td>6.517175</td>\n",
       "      <td>2.10</td>\n",
       "      <td>45574.741662</td>\n",
       "      <td>9.292476e+05</td>\n",
       "    </tr>\n",
       "    <tr>\n",
       "      <th>22</th>\n",
       "      <td>4.210323</td>\n",
       "      <td>5.478088</td>\n",
       "      <td>4.31</td>\n",
       "      <td>40358.960106</td>\n",
       "      <td>7.188872e+05</td>\n",
       "    </tr>\n",
       "    <tr>\n",
       "      <th>23</th>\n",
       "      <td>6.170484</td>\n",
       "      <td>7.150537</td>\n",
       "      <td>6.34</td>\n",
       "      <td>28140.967088</td>\n",
       "      <td>7.439998e+05</td>\n",
       "    </tr>\n",
       "    <tr>\n",
       "      <th>24</th>\n",
       "      <td>5.339340</td>\n",
       "      <td>7.748682</td>\n",
       "      <td>4.23</td>\n",
       "      <td>27809.986544</td>\n",
       "      <td>8.957371e+05</td>\n",
       "    </tr>\n",
       "    <tr>\n",
       "      <th>25</th>\n",
       "      <td>8.287562</td>\n",
       "      <td>7.312880</td>\n",
       "      <td>4.33</td>\n",
       "      <td>40694.869513</td>\n",
       "      <td>1.453975e+06</td>\n",
       "    </tr>\n",
       "    <tr>\n",
       "      <th>26</th>\n",
       "      <td>4.018525</td>\n",
       "      <td>6.992699</td>\n",
       "      <td>2.03</td>\n",
       "      <td>38853.918066</td>\n",
       "      <td>1.125693e+06</td>\n",
       "    </tr>\n",
       "    <tr>\n",
       "      <th>27</th>\n",
       "      <td>5.443360</td>\n",
       "      <td>6.988754</td>\n",
       "      <td>4.00</td>\n",
       "      <td>27784.742280</td>\n",
       "      <td>9.754295e+05</td>\n",
       "    </tr>\n",
       "    <tr>\n",
       "      <th>28</th>\n",
       "      <td>6.384359</td>\n",
       "      <td>4.242191</td>\n",
       "      <td>3.04</td>\n",
       "      <td>33970.164990</td>\n",
       "      <td>1.240764e+06</td>\n",
       "    </tr>\n",
       "    <tr>\n",
       "      <th>29</th>\n",
       "      <td>6.977828</td>\n",
       "      <td>8.273697</td>\n",
       "      <td>4.07</td>\n",
       "      <td>37520.657732</td>\n",
       "      <td>1.577018e+06</td>\n",
       "    </tr>\n",
       "    <tr>\n",
       "      <th>...</th>\n",
       "      <td>...</td>\n",
       "      <td>...</td>\n",
       "      <td>...</td>\n",
       "      <td>...</td>\n",
       "      <td>...</td>\n",
       "    </tr>\n",
       "    <tr>\n",
       "      <th>4970</th>\n",
       "      <td>7.014510</td>\n",
       "      <td>5.458789</td>\n",
       "      <td>2.11</td>\n",
       "      <td>43968.687046</td>\n",
       "      <td>1.120943e+06</td>\n",
       "    </tr>\n",
       "    <tr>\n",
       "      <th>4971</th>\n",
       "      <td>5.784430</td>\n",
       "      <td>4.425959</td>\n",
       "      <td>3.37</td>\n",
       "      <td>30800.541060</td>\n",
       "      <td>1.111307e+06</td>\n",
       "    </tr>\n",
       "    <tr>\n",
       "      <th>4972</th>\n",
       "      <td>7.643507</td>\n",
       "      <td>7.127219</td>\n",
       "      <td>5.05</td>\n",
       "      <td>33113.759057</td>\n",
       "      <td>1.736402e+06</td>\n",
       "    </tr>\n",
       "    <tr>\n",
       "      <th>4973</th>\n",
       "      <td>6.583685</td>\n",
       "      <td>6.595683</td>\n",
       "      <td>4.07</td>\n",
       "      <td>24381.144540</td>\n",
       "      <td>1.340770e+06</td>\n",
       "    </tr>\n",
       "    <tr>\n",
       "      <th>4974</th>\n",
       "      <td>6.411801</td>\n",
       "      <td>5.048128</td>\n",
       "      <td>3.01</td>\n",
       "      <td>19114.019253</td>\n",
       "      <td>8.013486e+05</td>\n",
       "    </tr>\n",
       "    <tr>\n",
       "      <th>4975</th>\n",
       "      <td>8.471765</td>\n",
       "      <td>6.966072</td>\n",
       "      <td>3.27</td>\n",
       "      <td>28696.170856</td>\n",
       "      <td>1.324382e+06</td>\n",
       "    </tr>\n",
       "    <tr>\n",
       "      <th>4976</th>\n",
       "      <td>5.351169</td>\n",
       "      <td>7.797825</td>\n",
       "      <td>5.23</td>\n",
       "      <td>34107.888619</td>\n",
       "      <td>1.340344e+06</td>\n",
       "    </tr>\n",
       "    <tr>\n",
       "      <th>4977</th>\n",
       "      <td>6.583105</td>\n",
       "      <td>5.914892</td>\n",
       "      <td>3.23</td>\n",
       "      <td>40394.593489</td>\n",
       "      <td>1.518478e+06</td>\n",
       "    </tr>\n",
       "    <tr>\n",
       "      <th>4978</th>\n",
       "      <td>8.899713</td>\n",
       "      <td>5.652974</td>\n",
       "      <td>4.04</td>\n",
       "      <td>39547.932489</td>\n",
       "      <td>1.910585e+06</td>\n",
       "    </tr>\n",
       "    <tr>\n",
       "      <th>4979</th>\n",
       "      <td>5.434087</td>\n",
       "      <td>8.375708</td>\n",
       "      <td>3.12</td>\n",
       "      <td>57166.867510</td>\n",
       "      <td>1.823498e+06</td>\n",
       "    </tr>\n",
       "    <tr>\n",
       "      <th>4980</th>\n",
       "      <td>5.789203</td>\n",
       "      <td>6.415312</td>\n",
       "      <td>2.02</td>\n",
       "      <td>54724.251275</td>\n",
       "      <td>1.406865e+06</td>\n",
       "    </tr>\n",
       "    <tr>\n",
       "      <th>4981</th>\n",
       "      <td>6.150745</td>\n",
       "      <td>7.311907</td>\n",
       "      <td>6.33</td>\n",
       "      <td>24109.778060</td>\n",
       "      <td>1.203850e+06</td>\n",
       "    </tr>\n",
       "    <tr>\n",
       "      <th>4982</th>\n",
       "      <td>5.976507</td>\n",
       "      <td>7.304051</td>\n",
       "      <td>6.43</td>\n",
       "      <td>37426.709745</td>\n",
       "      <td>1.020096e+06</td>\n",
       "    </tr>\n",
       "    <tr>\n",
       "      <th>4983</th>\n",
       "      <td>7.721100</td>\n",
       "      <td>6.077795</td>\n",
       "      <td>4.29</td>\n",
       "      <td>32902.355584</td>\n",
       "      <td>1.194357e+06</td>\n",
       "    </tr>\n",
       "    <tr>\n",
       "      <th>4984</th>\n",
       "      <td>5.071624</td>\n",
       "      <td>6.771015</td>\n",
       "      <td>3.33</td>\n",
       "      <td>50985.971202</td>\n",
       "      <td>1.211900e+06</td>\n",
       "    </tr>\n",
       "    <tr>\n",
       "      <th>4985</th>\n",
       "      <td>6.036275</td>\n",
       "      <td>6.538111</td>\n",
       "      <td>2.22</td>\n",
       "      <td>43976.031060</td>\n",
       "      <td>1.378938e+06</td>\n",
       "    </tr>\n",
       "    <tr>\n",
       "      <th>4986</th>\n",
       "      <td>5.718839</td>\n",
       "      <td>7.222730</td>\n",
       "      <td>4.34</td>\n",
       "      <td>34814.585591</td>\n",
       "      <td>1.260241e+06</td>\n",
       "    </tr>\n",
       "    <tr>\n",
       "      <th>4987</th>\n",
       "      <td>6.237787</td>\n",
       "      <td>6.860475</td>\n",
       "      <td>3.12</td>\n",
       "      <td>25573.854289</td>\n",
       "      <td>1.197073e+06</td>\n",
       "    </tr>\n",
       "    <tr>\n",
       "      <th>4988</th>\n",
       "      <td>7.056673</td>\n",
       "      <td>5.774409</td>\n",
       "      <td>3.05</td>\n",
       "      <td>43846.531340</td>\n",
       "      <td>1.275143e+06</td>\n",
       "    </tr>\n",
       "    <tr>\n",
       "      <th>4989</th>\n",
       "      <td>5.694638</td>\n",
       "      <td>7.363327</td>\n",
       "      <td>5.40</td>\n",
       "      <td>46071.947337</td>\n",
       "      <td>8.852050e+05</td>\n",
       "    </tr>\n",
       "    <tr>\n",
       "      <th>4990</th>\n",
       "      <td>5.452237</td>\n",
       "      <td>8.124571</td>\n",
       "      <td>6.39</td>\n",
       "      <td>14802.088438</td>\n",
       "      <td>4.795006e+05</td>\n",
       "    </tr>\n",
       "    <tr>\n",
       "      <th>4991</th>\n",
       "      <td>5.657841</td>\n",
       "      <td>7.683993</td>\n",
       "      <td>3.13</td>\n",
       "      <td>24041.270592</td>\n",
       "      <td>1.263721e+06</td>\n",
       "    </tr>\n",
       "    <tr>\n",
       "      <th>4992</th>\n",
       "      <td>6.403473</td>\n",
       "      <td>4.836091</td>\n",
       "      <td>4.02</td>\n",
       "      <td>40815.199679</td>\n",
       "      <td>1.568701e+06</td>\n",
       "    </tr>\n",
       "    <tr>\n",
       "      <th>4993</th>\n",
       "      <td>5.007510</td>\n",
       "      <td>7.778375</td>\n",
       "      <td>6.05</td>\n",
       "      <td>54056.128430</td>\n",
       "      <td>1.381831e+06</td>\n",
       "    </tr>\n",
       "    <tr>\n",
       "      <th>4994</th>\n",
       "      <td>5.293682</td>\n",
       "      <td>6.312253</td>\n",
       "      <td>4.16</td>\n",
       "      <td>22695.695480</td>\n",
       "      <td>9.053549e+05</td>\n",
       "    </tr>\n",
       "    <tr>\n",
       "      <th>4995</th>\n",
       "      <td>7.830362</td>\n",
       "      <td>6.137356</td>\n",
       "      <td>3.46</td>\n",
       "      <td>22837.361035</td>\n",
       "      <td>1.060194e+06</td>\n",
       "    </tr>\n",
       "    <tr>\n",
       "      <th>4996</th>\n",
       "      <td>6.999135</td>\n",
       "      <td>6.576763</td>\n",
       "      <td>4.02</td>\n",
       "      <td>25616.115489</td>\n",
       "      <td>1.482618e+06</td>\n",
       "    </tr>\n",
       "    <tr>\n",
       "      <th>4997</th>\n",
       "      <td>7.250591</td>\n",
       "      <td>4.805081</td>\n",
       "      <td>2.13</td>\n",
       "      <td>33266.145490</td>\n",
       "      <td>1.030730e+06</td>\n",
       "    </tr>\n",
       "    <tr>\n",
       "      <th>4998</th>\n",
       "      <td>5.534388</td>\n",
       "      <td>7.130144</td>\n",
       "      <td>5.44</td>\n",
       "      <td>42625.620156</td>\n",
       "      <td>1.198657e+06</td>\n",
       "    </tr>\n",
       "    <tr>\n",
       "      <th>4999</th>\n",
       "      <td>5.992305</td>\n",
       "      <td>6.792336</td>\n",
       "      <td>4.07</td>\n",
       "      <td>46501.283803</td>\n",
       "      <td>1.298950e+06</td>\n",
       "    </tr>\n",
       "  </tbody>\n",
       "</table>\n",
       "<p>5000 rows × 5 columns</p>\n",
       "</div>"
      ],
      "text/plain": [
       "      Avg. Area House Age  Avg. Area Number of Rooms  \\\n",
       "0                5.682861                   7.009188   \n",
       "1                6.002900                   6.730821   \n",
       "2                5.865890                   8.512727   \n",
       "3                7.188236                   5.586729   \n",
       "4                5.040555                   7.839388   \n",
       "5                4.988408                   6.104512   \n",
       "6                6.025336                   8.147760   \n",
       "7                6.989780                   6.620478   \n",
       "8                5.362126                   6.393121   \n",
       "9                4.423672                   8.167688   \n",
       "10               8.093513                   5.042747   \n",
       "11               4.496513                   7.467627   \n",
       "12               7.671755                   7.250029   \n",
       "13               6.919535                   5.993188   \n",
       "14               5.344776                   8.406418   \n",
       "15               5.443156                   8.517513   \n",
       "16               5.067890                   8.219771   \n",
       "17               4.788550                   5.097010   \n",
       "18               5.947165                   7.187774   \n",
       "19               5.739411                   7.091808   \n",
       "20               6.627457                   8.011898   \n",
       "21               5.551222                   6.517175   \n",
       "22               4.210323                   5.478088   \n",
       "23               6.170484                   7.150537   \n",
       "24               5.339340                   7.748682   \n",
       "25               8.287562                   7.312880   \n",
       "26               4.018525                   6.992699   \n",
       "27               5.443360                   6.988754   \n",
       "28               6.384359                   4.242191   \n",
       "29               6.977828                   8.273697   \n",
       "...                   ...                        ...   \n",
       "4970             7.014510                   5.458789   \n",
       "4971             5.784430                   4.425959   \n",
       "4972             7.643507                   7.127219   \n",
       "4973             6.583685                   6.595683   \n",
       "4974             6.411801                   5.048128   \n",
       "4975             8.471765                   6.966072   \n",
       "4976             5.351169                   7.797825   \n",
       "4977             6.583105                   5.914892   \n",
       "4978             8.899713                   5.652974   \n",
       "4979             5.434087                   8.375708   \n",
       "4980             5.789203                   6.415312   \n",
       "4981             6.150745                   7.311907   \n",
       "4982             5.976507                   7.304051   \n",
       "4983             7.721100                   6.077795   \n",
       "4984             5.071624                   6.771015   \n",
       "4985             6.036275                   6.538111   \n",
       "4986             5.718839                   7.222730   \n",
       "4987             6.237787                   6.860475   \n",
       "4988             7.056673                   5.774409   \n",
       "4989             5.694638                   7.363327   \n",
       "4990             5.452237                   8.124571   \n",
       "4991             5.657841                   7.683993   \n",
       "4992             6.403473                   4.836091   \n",
       "4993             5.007510                   7.778375   \n",
       "4994             5.293682                   6.312253   \n",
       "4995             7.830362                   6.137356   \n",
       "4996             6.999135                   6.576763   \n",
       "4997             7.250591                   4.805081   \n",
       "4998             5.534388                   7.130144   \n",
       "4999             5.992305                   6.792336   \n",
       "\n",
       "      Avg. Area Number of Bedrooms  Area Population         Price  \n",
       "0                             4.09     23086.800503  1.059034e+06  \n",
       "1                             3.09     40173.072174  1.505891e+06  \n",
       "2                             5.13     36882.159400  1.058988e+06  \n",
       "3                             3.26     34310.242831  1.260617e+06  \n",
       "4                             4.23     26354.109472  6.309435e+05  \n",
       "5                             4.04     26748.428425  1.068138e+06  \n",
       "6                             3.41     60828.249085  1.502056e+06  \n",
       "7                             2.42     36516.358972  1.573937e+06  \n",
       "8                             2.30     29387.396003  7.988695e+05  \n",
       "9                             6.10     40149.965749  1.545155e+06  \n",
       "10                            4.10     47224.359840  1.707046e+06  \n",
       "11                            4.49     34343.991886  6.637324e+05  \n",
       "12                            3.10     39220.361467  1.042814e+06  \n",
       "13                            2.27     32326.123139  1.291332e+06  \n",
       "14                            4.37     35521.294033  1.402818e+06  \n",
       "15                            4.01     23929.524053  1.306675e+06  \n",
       "16                            3.12     39717.813576  1.556787e+06  \n",
       "17                            4.30     24595.901498  5.284852e+05  \n",
       "18                            5.12     35719.653052  1.019426e+06  \n",
       "19                            5.49     44922.106702  1.030591e+06  \n",
       "20                            4.07     47560.775336  2.146925e+06  \n",
       "21                            2.10     45574.741662  9.292476e+05  \n",
       "22                            4.31     40358.960106  7.188872e+05  \n",
       "23                            6.34     28140.967088  7.439998e+05  \n",
       "24                            4.23     27809.986544  8.957371e+05  \n",
       "25                            4.33     40694.869513  1.453975e+06  \n",
       "26                            2.03     38853.918066  1.125693e+06  \n",
       "27                            4.00     27784.742280  9.754295e+05  \n",
       "28                            3.04     33970.164990  1.240764e+06  \n",
       "29                            4.07     37520.657732  1.577018e+06  \n",
       "...                            ...              ...           ...  \n",
       "4970                          2.11     43968.687046  1.120943e+06  \n",
       "4971                          3.37     30800.541060  1.111307e+06  \n",
       "4972                          5.05     33113.759057  1.736402e+06  \n",
       "4973                          4.07     24381.144540  1.340770e+06  \n",
       "4974                          3.01     19114.019253  8.013486e+05  \n",
       "4975                          3.27     28696.170856  1.324382e+06  \n",
       "4976                          5.23     34107.888619  1.340344e+06  \n",
       "4977                          3.23     40394.593489  1.518478e+06  \n",
       "4978                          4.04     39547.932489  1.910585e+06  \n",
       "4979                          3.12     57166.867510  1.823498e+06  \n",
       "4980                          2.02     54724.251275  1.406865e+06  \n",
       "4981                          6.33     24109.778060  1.203850e+06  \n",
       "4982                          6.43     37426.709745  1.020096e+06  \n",
       "4983                          4.29     32902.355584  1.194357e+06  \n",
       "4984                          3.33     50985.971202  1.211900e+06  \n",
       "4985                          2.22     43976.031060  1.378938e+06  \n",
       "4986                          4.34     34814.585591  1.260241e+06  \n",
       "4987                          3.12     25573.854289  1.197073e+06  \n",
       "4988                          3.05     43846.531340  1.275143e+06  \n",
       "4989                          5.40     46071.947337  8.852050e+05  \n",
       "4990                          6.39     14802.088438  4.795006e+05  \n",
       "4991                          3.13     24041.270592  1.263721e+06  \n",
       "4992                          4.02     40815.199679  1.568701e+06  \n",
       "4993                          6.05     54056.128430  1.381831e+06  \n",
       "4994                          4.16     22695.695480  9.053549e+05  \n",
       "4995                          3.46     22837.361035  1.060194e+06  \n",
       "4996                          4.02     25616.115489  1.482618e+06  \n",
       "4997                          2.13     33266.145490  1.030730e+06  \n",
       "4998                          5.44     42625.620156  1.198657e+06  \n",
       "4999                          4.07     46501.283803  1.298950e+06  \n",
       "\n",
       "[5000 rows x 5 columns]"
      ]
     },
     "execution_count": 4,
     "metadata": {},
     "output_type": "execute_result"
    }
   ],
   "source": [
    "Data"
   ]
  },
  {
   "cell_type": "code",
   "execution_count": 5,
   "metadata": {},
   "outputs": [],
   "source": [
    "DataMatrix = Data.values"
   ]
  },
  {
   "cell_type": "code",
   "execution_count": 6,
   "metadata": {
    "scrolled": true
   },
   "outputs": [
    {
     "data": {
      "text/plain": [
       "(5000, 5)"
      ]
     },
     "execution_count": 6,
     "metadata": {},
     "output_type": "execute_result"
    }
   ],
   "source": [
    "DataMatrix.shape"
   ]
  },
  {
   "cell_type": "code",
   "execution_count": 7,
   "metadata": {},
   "outputs": [
    {
     "data": {
      "text/plain": [
       "array([[5.68286132e+00, 7.00918814e+00, 4.09000000e+00, 2.30868005e+04,\n",
       "        1.05903356e+06],\n",
       "       [6.00289981e+00, 6.73082102e+00, 3.09000000e+00, 4.01730722e+04,\n",
       "        1.50589091e+06],\n",
       "       [5.86588984e+00, 8.51272743e+00, 5.13000000e+00, 3.68821594e+04,\n",
       "        1.05898799e+06],\n",
       "       ...,\n",
       "       [7.25059061e+00, 4.80508098e+00, 2.13000000e+00, 3.32661455e+04,\n",
       "        1.03072958e+06],\n",
       "       [5.53438842e+00, 7.13014386e+00, 5.44000000e+00, 4.26256202e+04,\n",
       "        1.19865687e+06],\n",
       "       [5.99230531e+00, 6.79233610e+00, 4.07000000e+00, 4.65012838e+04,\n",
       "        1.29895048e+06]])"
      ]
     },
     "execution_count": 7,
     "metadata": {},
     "output_type": "execute_result"
    }
   ],
   "source": [
    "DataMatrix"
   ]
  },
  {
   "cell_type": "code",
   "execution_count": 8,
   "metadata": {},
   "outputs": [],
   "source": [
    "Feature = DataMatrix[:, :-1]"
   ]
  },
  {
   "cell_type": "code",
   "execution_count": 9,
   "metadata": {},
   "outputs": [
    {
     "data": {
      "text/plain": [
       "(5000, 4)"
      ]
     },
     "execution_count": 9,
     "metadata": {},
     "output_type": "execute_result"
    }
   ],
   "source": [
    "Feature.shape"
   ]
  },
  {
   "cell_type": "code",
   "execution_count": 10,
   "metadata": {},
   "outputs": [],
   "source": [
    "Price = DataMatrix[:, -1:]"
   ]
  },
  {
   "cell_type": "code",
   "execution_count": 11,
   "metadata": {},
   "outputs": [
    {
     "data": {
      "text/plain": [
       "(5000, 1)"
      ]
     },
     "execution_count": 11,
     "metadata": {},
     "output_type": "execute_result"
    }
   ],
   "source": [
    "Price.shape"
   ]
  },
  {
   "cell_type": "code",
   "execution_count": 12,
   "metadata": {},
   "outputs": [
    {
     "data": {
      "text/plain": [
       "array([[5.68286132e+00, 7.00918814e+00, 4.09000000e+00, 2.30868005e+04],\n",
       "       [6.00289981e+00, 6.73082102e+00, 3.09000000e+00, 4.01730722e+04],\n",
       "       [5.86588984e+00, 8.51272743e+00, 5.13000000e+00, 3.68821594e+04],\n",
       "       ...,\n",
       "       [7.25059061e+00, 4.80508098e+00, 2.13000000e+00, 3.32661455e+04],\n",
       "       [5.53438842e+00, 7.13014386e+00, 5.44000000e+00, 4.26256202e+04],\n",
       "       [5.99230531e+00, 6.79233610e+00, 4.07000000e+00, 4.65012838e+04]])"
      ]
     },
     "execution_count": 12,
     "metadata": {},
     "output_type": "execute_result"
    }
   ],
   "source": [
    "Feature"
   ]
  },
  {
   "cell_type": "code",
   "execution_count": 13,
   "metadata": {},
   "outputs": [
    {
     "data": {
      "text/plain": [
       "array([[1059033.55787012],\n",
       "       [1505890.91484695],\n",
       "       [1058987.98787608],\n",
       "       ...,\n",
       "       [1030729.58315229],\n",
       "       [1198656.87240769],\n",
       "       [1298950.48026696]])"
      ]
     },
     "execution_count": 13,
     "metadata": {},
     "output_type": "execute_result"
    }
   ],
   "source": [
    "Price"
   ]
  },
  {
   "cell_type": "code",
   "execution_count": 14,
   "metadata": {},
   "outputs": [],
   "source": [
    "Feature_Train = Feature[:-1000, :]\n",
    "Price_Train = Price[:-1000, :]"
   ]
  },
  {
   "cell_type": "code",
   "execution_count": 15,
   "metadata": {},
   "outputs": [
    {
     "data": {
      "text/plain": [
       "(4000, 4)"
      ]
     },
     "execution_count": 15,
     "metadata": {},
     "output_type": "execute_result"
    }
   ],
   "source": [
    "Feature_Train.shape"
   ]
  },
  {
   "cell_type": "code",
   "execution_count": 16,
   "metadata": {},
   "outputs": [
    {
     "data": {
      "text/plain": [
       "(4000, 1)"
      ]
     },
     "execution_count": 16,
     "metadata": {},
     "output_type": "execute_result"
    }
   ],
   "source": [
    "Price_Train.shape"
   ]
  },
  {
   "cell_type": "code",
   "execution_count": 17,
   "metadata": {},
   "outputs": [],
   "source": [
    "Feature_Test = Feature[-1000:, :]\n",
    "Price_Test = Price[-1000:, :]"
   ]
  },
  {
   "cell_type": "markdown",
   "metadata": {},
   "source": [
    "# 3. Create Model"
   ]
  },
  {
   "cell_type": "code",
   "execution_count": 18,
   "metadata": {
    "scrolled": true
   },
   "outputs": [],
   "source": [
    "W = SMK.MR_find_W(Feature_Train, Price_Train)"
   ]
  },
  {
   "cell_type": "code",
   "execution_count": 19,
   "metadata": {},
   "outputs": [],
   "source": [
    "PPrice_Train = SMK.MR_find_Yhat(Feature_Train, W)"
   ]
  },
  {
   "cell_type": "code",
   "execution_count": 20,
   "metadata": {},
   "outputs": [],
   "source": [
    "Error_Train = SMK.find_error(Price_Train, PPrice_Train, 'MAPE')"
   ]
  },
  {
   "cell_type": "code",
   "execution_count": 21,
   "metadata": {},
   "outputs": [
    {
     "data": {
      "image/png": "[encoded data removed]",
      "text/plain": [
       "<Figure size 648x324 with 1 Axes>"
      ]
     },
     "metadata": {
      "needs_background": "light"
     },
     "output_type": "display_data"
    }
   ],
   "source": [
    "fig = plt.figure(figsize = (9, 4.5))\n",
    "plt.plot(Price_Train, label = 'Real Price Train')\n",
    "plt.plot(PPrice_Train, label = 'Predicted Price Train')\n",
    "plt.legend()\n",
    "plt.show()"
   ]
  },
  {
   "cell_type": "code",
   "execution_count": 22,
   "metadata": {},
   "outputs": [
    {
     "name": "stdout",
     "output_type": "stream",
     "text": [
      "The training error is apporximately 20.79 %\n"
     ]
    }
   ],
   "source": [
    "print(f'The training error is apporximately {round(Error_Train, 2)} %')"
   ]
  },
  {
   "cell_type": "markdown",
   "metadata": {},
   "source": [
    "# 4. Model Testing"
   ]
  },
  {
   "cell_type": "code",
   "execution_count": 23,
   "metadata": {
    "scrolled": true
   },
   "outputs": [
    {
     "data": {
      "text/plain": [
       "array([[-1.12892799e+06],\n",
       "       [ 1.61982522e+05],\n",
       "       [ 1.17468942e+05],\n",
       "       [ 8.26261290e+03],\n",
       "       [ 1.49221338e+01]])"
      ]
     },
     "execution_count": 23,
     "metadata": {},
     "output_type": "execute_result"
    }
   ],
   "source": [
    "W"
   ]
  },
  {
   "cell_type": "code",
   "execution_count": 24,
   "metadata": {},
   "outputs": [],
   "source": [
    "PPrice_Test = SMK.MR_find_Yhat(Feature_Test, W)"
   ]
  },
  {
   "cell_type": "code",
   "execution_count": 25,
   "metadata": {},
   "outputs": [],
   "source": [
    "Error_Test = SMK.find_error(Price_Test, PPrice_Test, 'MAPE')"
   ]
  },
  {
   "cell_type": "code",
   "execution_count": 26,
   "metadata": {
    "scrolled": true
   },
   "outputs": [
    {
     "data": {
      "image/png": "[encoded data removed]",
      "text/plain": [
       "<Figure size 648x324 with 1 Axes>"
      ]
     },
     "metadata": {
      "needs_background": "light"
     },
     "output_type": "display_data"
    }
   ],
   "source": [
    "fig = plt.figure(figsize = (9, 4.5))\n",
    "plt.plot(Price_Test, label = 'Real Price Test')\n",
    "plt.plot(PPrice_Test, label = 'Predicted Price Test')\n",
    "plt.legend()\n",
    "plt.show()"
   ]
  },
  {
   "cell_type": "code",
   "execution_count": 27,
   "metadata": {},
   "outputs": [
    {
     "name": "stdout",
     "output_type": "stream",
     "text": [
      "The tested model error is approximately 19.09 %\n"
     ]
    }
   ],
   "source": [
    "print(f'The tested model error is approximately {round(Error_Test, 2)} %')"
   ]
  },
  {
   "cell_type": "markdown",
   "metadata": {},
   "source": [
    "# 5. Prediction"
   ]
  },
  {
   "cell_type": "code",
   "execution_count": 28,
   "metadata": {
    "scrolled": true
   },
   "outputs": [
    {
     "name": "stdout",
     "output_type": "stream",
     "text": [
      "How many house years old? 5\n",
      "How many rooms in the house? 5\n",
      "How many bedrooms in the house? 4\n",
      "How large the area population is? 50000\n",
      "According from the data input, the house should be priced at 1047486.47 USD\n"
     ]
    }
   ],
   "source": [
    "AHA = int(input('How many house years old? '))\n",
    "AR = int(input('How many rooms in the house? '))\n",
    "AB = int(input('How many bedrooms in the house? '))\n",
    "AP = int(input('How large the area population is? '))\n",
    "DataForPrediction = np.array([[AHA, AR, AB, AP]])\n",
    "PredictedPrice = SMK.MR_find_Yhat(DataForPrediction, W)\n",
    "print(f'According from the data input, the house should be priced at {round(PredictedPrice[0][0], 2)} USD')"
   ]
  }
 ],
 "metadata": {
  "kernelspec": {
   "display_name": "Python 3",
   "language": "python",
   "name": "python3"
  },
  "language_info": {
   "codemirror_mode": {
    "name": "ipython",
    "version": 3
   },
   "file_extension": ".py",
   "mimetype": "text/x-python",
   "name": "python",
   "nbconvert_exporter": "python",
   "pygments_lexer": "ipython3",
   "version": "3.7.3"
  }
 },
 "nbformat": 4,
 "nbformat_minor": 2
}
